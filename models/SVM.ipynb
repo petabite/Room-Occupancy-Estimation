{
 "cells": [
  {
   "cell_type": "code",
   "execution_count": 7,
   "metadata": {},
   "outputs": [],
   "source": [
    "import pandas as pd\n",
    "import matplotlib.pyplot as plt\n",
    "import numpy as np\n",
    "import sklearn as sk\n",
    "from sklearn.utils._testing import ignore_warnings\n",
    "from sklearn import svm\n",
    "from sklearn.exceptions import ConvergenceWarning\n",
    "from sklearn.model_selection import train_test_split\n",
    "import random"
   ]
  },
  {
   "cell_type": "code",
   "execution_count": 8,
   "metadata": {},
   "outputs": [],
   "source": [
    "# Read the CSV file\n",
    "df = pd.read_csv(\"../data/Occupancy_Estimation.csv\")\n",
    "\n",
    "# Display the first few rows of the DataFrame\n",
    "df\n",
    "# df_drop = df.drop(columns = ['Date', 'Time', 'Room_Occupancy_Count'])\n",
    "# # df['Datetime'] = pd.to_datetime(df['Date'] + ' ' + df['Time'])\n",
    "\n",
    "\n",
    "features = [ 'S1_Temp', 'S2_Temp', 'S3_Temp', 'S4_Temp', 'S1_Light',\n",
    "            'S2_Light', 'S3_Light', 'S4_Light', 'S1_Sound', 'S2_Sound', 'S3_Sound',\n",
    "            'S4_Sound', 'S5_CO2', 'S5_CO2_Slope', 'S6_PIR', 'S7_PIR' ]\n",
    "# for col in df_drop.\n",
    "for feature in features:\n",
    "    df[feature] = (df[feature] - df[feature].min()) / (df[feature].max() - df[feature].min())\n"
   ]
  },
  {
   "cell_type": "code",
   "execution_count": 9,
   "metadata": {},
   "outputs": [],
   "source": [
    "# Compute cross-validation score\n",
    "@ignore_warnings(category=ConvergenceWarning)\n",
    "\n",
    "# Add documetnation to the function\n",
    "def Kfold_CV_score(df, features, hyperparams=(1), num_folds=5):\n",
    "    # TODO add doc string\n",
    "\n",
    "    fold_size = len(df) // num_folds\n",
    "\n",
    "    fold_train_scores = []\n",
    "    fold_valid_scores = []\n",
    "\n",
    "\n",
    "    for i in range(num_folds):\n",
    "        start = i * fold_size\n",
    "        end = start + fold_size\n",
    "\n",
    "        # Extract the training and validation df for this fold \n",
    "        valid_data = df[start:end]\n",
    "        train_data = df[~df.index.isin(range(start, end))]\n",
    "\n",
    "        valid_not_norms = df[start:end]\n",
    "        train_not_norms = df[~df.index.isin(range(start, end))]\n",
    "\n",
    "        X_train = train_data[features]\n",
    "        Y_train = train_not_norms['Room_Occupancy_Count']\n",
    "\n",
    "        X_valid = valid_data[features]\n",
    "        Y_valid = valid_not_norms['Room_Occupancy_Count']\n",
    "\n",
    "        # Instantiate and train the model on the training data\n",
    "        mod = svm.SVC(C=hyperparams['C'], kernel=hyperparams['kernel'], degree=hyperparams['degree'], class_weight=hyperparams['class_weight'])\n",
    "        #mod = svm.SVC(C = hyperparams['C'],class_weight=hyperparams['class_weight'])\n",
    "        mod.fit(X_train, Y_train)\n",
    "\n",
    "        train_score = mod.score(X_train, Y_train)\n",
    "        valid_score = mod.score(X_valid, Y_valid)\n",
    "\n",
    "        fold_train_scores.append(train_score)\n",
    "        fold_valid_scores.append(valid_score)\n",
    "\n",
    "        # print(f\"Fold {i} score: {score}\")\n",
    "\n",
    "    # Calculate the mean score across all folds\n",
    "    mean_train_score = sum(fold_train_scores) / len(fold_train_scores)\n",
    "    mean_valid_score = sum(fold_valid_scores) / len(fold_valid_scores)\n",
    "\n",
    "    return mean_train_score, mean_valid_score"
   ]
  },
  {
   "cell_type": "code",
   "execution_count": 10,
   "metadata": {},
   "outputs": [
    {
     "name": "stdout",
     "output_type": "stream",
     "text": [
      "MODEL ARCH ==============================\n",
      "Features: ['S1_Temp', 'S2_Temp', 'S3_Temp', 'S4_Temp', 'S1_Light', 'S2_Light', 'S3_Light', 'S4_Light', 'S1_Sound', 'S2_Sound', 'S3_Sound', 'S4_Sound', 'S5_CO2', 'S5_CO2_Slope', 'S6_PIR', 'S7_PIR']\n",
      "Regularizer: {'C': 1, 'kernel': 'linear', 'degree': 6, 'class_weight': 'balanced', 'max_iter': (10, 0, 0)}\n",
      "\n",
      "MODEL EVAL ==============================\n",
      "Num CV folds: 5\n",
      "Mean train score: 0.9942497532082921\n",
      "Mean valid score: 0.9917037037037038\n"
     ]
    }
   ],
   "source": [
    "\n",
    "#fit the model to the training data\n",
    "features = [ 'S1_Temp', 'S2_Temp', 'S3_Temp', 'S4_Temp', 'S1_Light',\n",
    "            'S2_Light', 'S3_Light', 'S4_Light', 'S1_Sound', 'S2_Sound', 'S3_Sound',\n",
    "            'S4_Sound', 'S5_CO2', 'S5_CO2_Slope', 'S6_PIR', 'S7_PIR' ]\n",
    "\n",
    "regularizers = []\n",
    "#Hyperparameters included here are \n",
    "hyperparams = {}\n",
    "hyperparams['C'] = 1\n",
    "hyperparams['kernel'] = 'linear'\n",
    "hyperparams['degree'] = 6\n",
    "hyperparams['class_weight'] = 'balanced'   \n",
    "hyperparams['max_iter'] = 10,000,000\n",
    "num_folds = 5\n",
    "\n",
    "# Shuffle the datai\n",
    "df = df.sample(frac=1)\n",
    "\n",
    "mean_train_score, mean_valid_score = Kfold_CV_score(\n",
    "    df=df, features=features, hyperparams=hyperparams, num_folds=num_folds)\n",
    "\n",
    "print(f\"MODEL ARCH ==============================\")\n",
    "print(f\"Features: {features}\")\n",
    "print(f\"Regularizer: {hyperparams}\")\n",
    "print()\n",
    "print(f\"MODEL EVAL ==============================\")\n",
    "print(f\"Num CV folds: {num_folds}\")\n",
    "print(f\"Mean train score: {mean_train_score}\")\n",
    "print(f\"Mean valid score: {mean_valid_score}\")"
   ]
  }
 ],
 "metadata": {
  "kernelspec": {
   "display_name": "Python 3",
   "language": "python",
   "name": "python3"
  },
  "language_info": {
   "codemirror_mode": {
    "name": "ipython",
    "version": 3
   },
   "file_extension": ".py",
   "mimetype": "text/x-python",
   "name": "python",
   "nbconvert_exporter": "python",
   "pygments_lexer": "ipython3",
   "version": "3.10.8"
  }
 },
 "nbformat": 4,
 "nbformat_minor": 2
}
