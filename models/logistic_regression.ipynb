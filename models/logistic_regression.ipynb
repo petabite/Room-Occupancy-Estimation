{
 "cells": [
  {
   "cell_type": "code",
   "execution_count": 27,
   "metadata": {},
   "outputs": [],
   "source": [
    "import pandas as pd\n",
    "import matplotlib.pyplot as plt\n",
    "from sklearn.linear_model import LogisticRegression\n",
    "from sklearn.utils._testing import ignore_warnings\n",
    "from sklearn.exceptions import ConvergenceWarning"
   ]
  },
  {
   "cell_type": "code",
   "execution_count": 28,
   "metadata": {},
   "outputs": [],
   "source": [
    "# Read the CSV file\n",
    "df = pd.read_csv(\"../data/Occupancy_Estimation.csv\")"
   ]
  },
  {
   "cell_type": "code",
   "execution_count": 29,
   "metadata": {},
   "outputs": [],
   "source": [
    "# Print headers\n",
    "features = ['S1_Temp', 'S2_Temp', 'S3_Temp', 'S4_Temp', 'S1_Light',\n",
    "            'S2_Light', 'S3_Light', 'S4_Light', 'S1_Sound', 'S2_Sound', 'S3_Sound',\n",
    "            'S4_Sound', 'S5_CO2', 'S5_CO2_Slope', 'S6_PIR', 'S7_PIR']\n",
    "\n",
    "X_train = df[features]\n",
    "Y_train = df['Room_Occupancy_Count']"
   ]
  },
  {
   "cell_type": "code",
   "execution_count": 33,
   "metadata": {},
   "outputs": [],
   "source": [
    "# Compute cross-validation score\n",
    "@ignore_warnings(category=ConvergenceWarning)\n",
    "\n",
    "# Add documetnation to the function\n",
    "def Kfold_CV_score(df, hyperparams=(0.1), num_folds=5):\n",
    "     \"\"\"\n",
    "    Perform k-fold cross-validation for a Logistic Regression model.\n",
    "\n",
    "    Parameters:\n",
    "    - df : pandas DataFrame\n",
    "        The dataset containing features and the target variable.\n",
    "    - hyperparams : tuple, optional (default=(0.1))\n",
    "        Regularization parameter(s) for the Logistic Regression model.\n",
    "    - num_folds : int, optional (default=5)\n",
    "        Number of folds for cross-validation.\n",
    "\n",
    "    Returns:\n",
    "    - mean_train_score : float\n",
    "        Mean training score across all folds.\n",
    "    - mean_valid_score : float\n",
    "        Mean validation score across all folds.\n",
    "    \"\"\"\n",
    "\n",
    "    fold_size = len(df) // num_folds\n",
    "\n",
    "    fold_train_scores = []\n",
    "    fold_valid_scores = []\n",
    "\n",
    "    regularizer = hyperparams\n",
    "\n",
    "    for i in range(num_folds):\n",
    "        start = i * fold_size\n",
    "        end = start + fold_size\n",
    "\n",
    "        # Extract the training and validation df for this fold \n",
    "        valid_data = df[start:end]\n",
    "        train_data = df[~df.index.isin(range(start, end))]\n",
    "\n",
    "        X_train = train_data[features]\n",
    "        Y_train = train_data['Room_Occupancy_Count']\n",
    "\n",
    "        X_valid = valid_data[features]\n",
    "        Y_valid = valid_data['Room_Occupancy_Count']\n",
    "\n",
    "        # Instantiate and train the model on the training data\n",
    "        clf = LogisticRegression(class_weight='balanced', C=regularizer)\n",
    "\n",
    "        clf.fit(X_train, Y_train)\n",
    "\n",
    "        train_score = clf.score(X_train, Y_train)\n",
    "        valid_score = clf.score(X_valid, Y_valid)\n",
    "\n",
    "        fold_train_scores.append(train_score)\n",
    "        fold_valid_scores.append(valid_score)\n",
    "\n",
    "        # print(f\"Fold {i} score: {score}\")\n",
    "\n",
    "    # Calculate the mean score across all folds\n",
    "    mean_train_score = sum(fold_train_scores) / len(fold_train_scores)\n",
    "    mean_valid_score = sum(fold_valid_scores) / len(fold_valid_scores)\n",
    "\n",
    "    return mean_train_score, mean_valid_score"
   ]
  },
  {
   "cell_type": "code",
   "execution_count": 36,
   "metadata": {},
   "outputs": [
    {
     "name": "stdout",
     "output_type": "stream",
     "text": [
      "Mean train score: 0.9917324777887464\n",
      "Mean valid score: 0.9546666666666667\n"
     ]
    }
   ],
   "source": [
    "mean_train_score, mean_valid_score = Kfold_CV_score(df, hyperparams=(1), num_folds=5)\n",
    "\n",
    "print(f\"Mean train score: {mean_train_score}\")\n",
    "print(f\"Mean valid score: {mean_valid_score}\")"
   ]
  }
 ],
 "metadata": {
  "kernelspec": {
   "display_name": ".cse-158-venv",
   "language": "python",
   "name": "python3"
  },
  "language_info": {
   "codemirror_mode": {
    "name": "ipython",
    "version": 3
   },
   "file_extension": ".py",
   "mimetype": "text/x-python",
   "name": "python",
   "nbconvert_exporter": "python",
   "pygments_lexer": "ipython3",
   "version": "3.9.13"
  }
 },
 "nbformat": 4,
 "nbformat_minor": 2
}
